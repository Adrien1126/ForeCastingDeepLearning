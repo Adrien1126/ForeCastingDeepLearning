{
 "cells": [
  {
   "cell_type": "code",
   "execution_count": 1,
   "metadata": {},
   "outputs": [],
   "source": [
    "import sys\n",
    "import os\n",
    "sys.path.append(os.path.abspath('../src'))\n",
    "from data_processing.preprocessing import *\n",
    "\n",
    "import pandas as pd\n",
    "import numpy as np\n",
    "from sklearn.preprocessing import MinMaxScaler\n",
    "from utils.plotting import *\n",
    "from model.rnn import *\n",
    "from model.lstm import *\n",
    "from model.metrics import *"
   ]
  },
  {
   "cell_type": "code",
   "execution_count": 2,
   "metadata": {},
   "outputs": [
    {
     "name": "stdout",
     "output_type": "stream",
     "text": [
      "Téléchargement des données pour BNP.PA...\n"
     ]
    },
    {
     "name": "stderr",
     "output_type": "stream",
     "text": [
      "[*********************100%***********************]  1 of 1 completed\n",
      "[*********************100%***********************]  1 of 1 completed\n"
     ]
    },
    {
     "name": "stdout",
     "output_type": "stream",
     "text": [
      "Téléchargement des données pour GLE.PA...\n",
      "Téléchargement des données pour ACA.PA...\n"
     ]
    },
    {
     "name": "stderr",
     "output_type": "stream",
     "text": [
      "[*********************100%***********************]  1 of 1 completed\n"
     ]
    },
    {
     "name": "stdout",
     "output_type": "stream",
     "text": [
      "Téléchargement des données pour HSBA.L...\n"
     ]
    },
    {
     "name": "stderr",
     "output_type": "stream",
     "text": [
      "[*********************100%***********************]  1 of 1 completed\n",
      "[*********************100%***********************]  1 of 1 completed"
     ]
    },
    {
     "name": "stdout",
     "output_type": "stream",
     "text": [
      "Téléchargement des données pour BARC.L...\n"
     ]
    },
    {
     "name": "stderr",
     "output_type": "stream",
     "text": [
      "\n"
     ]
    },
    {
     "name": "stdout",
     "output_type": "stream",
     "text": [
      "Téléchargement des données pour DBK.DE...\n"
     ]
    },
    {
     "name": "stderr",
     "output_type": "stream",
     "text": [
      "[*********************100%***********************]  1 of 1 completed\n"
     ]
    },
    {
     "name": "stdout",
     "output_type": "stream",
     "text": [
      "Téléchargement des données pour UBSG.SW...\n"
     ]
    },
    {
     "name": "stderr",
     "output_type": "stream",
     "text": [
      "[*********************100%***********************]  1 of 1 completed\n",
      "[*********************100%***********************]  1 of 1 completed\n"
     ]
    },
    {
     "name": "stdout",
     "output_type": "stream",
     "text": [
      "Téléchargement des données pour INGA.AS...\n",
      "Téléchargement des données pour ISP.MI...\n"
     ]
    },
    {
     "name": "stderr",
     "output_type": "stream",
     "text": [
      "[*********************100%***********************]  1 of 1 completed\n",
      "[*********************100%***********************]  1 of 1 completed\n"
     ]
    },
    {
     "name": "stdout",
     "output_type": "stream",
     "text": [
      "Téléchargement des données pour SAN.MC...\n",
      "Téléchargement des données pour BBVA.MC...\n"
     ]
    },
    {
     "name": "stderr",
     "output_type": "stream",
     "text": [
      "[*********************100%***********************]  1 of 1 completed\n"
     ]
    },
    {
     "name": "stdout",
     "output_type": "stream",
     "text": [
      "Nombre de valeurs manquantes au début : 0\n",
      "Nombre total de valeurs manquantes après traitement: 0\n"
     ]
    },
    {
     "data": {
      "text/html": [
       "<div>\n",
       "<style scoped>\n",
       "    .dataframe tbody tr th:only-of-type {\n",
       "        vertical-align: middle;\n",
       "    }\n",
       "\n",
       "    .dataframe tbody tr th {\n",
       "        vertical-align: top;\n",
       "    }\n",
       "\n",
       "    .dataframe thead th {\n",
       "        text-align: right;\n",
       "    }\n",
       "</style>\n",
       "<table border=\"1\" class=\"dataframe\">\n",
       "  <thead>\n",
       "    <tr style=\"text-align: right;\">\n",
       "      <th></th>\n",
       "      <th>Date</th>\n",
       "      <th>Adj Close</th>\n",
       "      <th>Close</th>\n",
       "      <th>High</th>\n",
       "      <th>Low</th>\n",
       "      <th>Open</th>\n",
       "      <th>Volume</th>\n",
       "      <th>Log Return</th>\n",
       "    </tr>\n",
       "  </thead>\n",
       "  <tbody>\n",
       "    <tr>\n",
       "      <th>0</th>\n",
       "      <td>2013-01-02</td>\n",
       "      <td>22.753107</td>\n",
       "      <td>44.459999</td>\n",
       "      <td>44.564999</td>\n",
       "      <td>43.419998</td>\n",
       "      <td>43.930000</td>\n",
       "      <td>3604846.0</td>\n",
       "      <td>0.000000</td>\n",
       "    </tr>\n",
       "    <tr>\n",
       "      <th>1</th>\n",
       "      <td>2013-01-03</td>\n",
       "      <td>22.753107</td>\n",
       "      <td>44.459999</td>\n",
       "      <td>44.544998</td>\n",
       "      <td>44.014999</td>\n",
       "      <td>44.240002</td>\n",
       "      <td>1719620.0</td>\n",
       "      <td>0.000000</td>\n",
       "    </tr>\n",
       "    <tr>\n",
       "      <th>2</th>\n",
       "      <td>2013-01-04</td>\n",
       "      <td>22.714725</td>\n",
       "      <td>44.384998</td>\n",
       "      <td>44.720001</td>\n",
       "      <td>43.955002</td>\n",
       "      <td>44.360001</td>\n",
       "      <td>1969483.0</td>\n",
       "      <td>-0.001688</td>\n",
       "    </tr>\n",
       "    <tr>\n",
       "      <th>3</th>\n",
       "      <td>2013-01-07</td>\n",
       "      <td>23.136940</td>\n",
       "      <td>45.209999</td>\n",
       "      <td>46.064999</td>\n",
       "      <td>45.119999</td>\n",
       "      <td>45.250000</td>\n",
       "      <td>4186011.0</td>\n",
       "      <td>0.018417</td>\n",
       "    </tr>\n",
       "    <tr>\n",
       "      <th>4</th>\n",
       "      <td>2013-01-08</td>\n",
       "      <td>23.385141</td>\n",
       "      <td>45.695000</td>\n",
       "      <td>46.555000</td>\n",
       "      <td>45.064999</td>\n",
       "      <td>45.154999</td>\n",
       "      <td>4068024.0</td>\n",
       "      <td>0.010670</td>\n",
       "    </tr>\n",
       "    <tr>\n",
       "      <th>...</th>\n",
       "      <td>...</td>\n",
       "      <td>...</td>\n",
       "      <td>...</td>\n",
       "      <td>...</td>\n",
       "      <td>...</td>\n",
       "      <td>...</td>\n",
       "      <td>...</td>\n",
       "      <td>...</td>\n",
       "    </tr>\n",
       "    <tr>\n",
       "      <th>3038</th>\n",
       "      <td>2024-10-31</td>\n",
       "      <td>62.750000</td>\n",
       "      <td>62.750000</td>\n",
       "      <td>62.860001</td>\n",
       "      <td>60.599998</td>\n",
       "      <td>61.790001</td>\n",
       "      <td>7008244.0</td>\n",
       "      <td>-0.042892</td>\n",
       "    </tr>\n",
       "    <tr>\n",
       "      <th>3039</th>\n",
       "      <td>2024-11-01</td>\n",
       "      <td>63.040001</td>\n",
       "      <td>63.040001</td>\n",
       "      <td>63.419998</td>\n",
       "      <td>62.349998</td>\n",
       "      <td>62.570000</td>\n",
       "      <td>3008056.0</td>\n",
       "      <td>0.004611</td>\n",
       "    </tr>\n",
       "    <tr>\n",
       "      <th>3040</th>\n",
       "      <td>2024-11-04</td>\n",
       "      <td>62.869999</td>\n",
       "      <td>62.869999</td>\n",
       "      <td>63.439999</td>\n",
       "      <td>62.669998</td>\n",
       "      <td>62.990002</td>\n",
       "      <td>1950835.0</td>\n",
       "      <td>-0.002700</td>\n",
       "    </tr>\n",
       "    <tr>\n",
       "      <th>3041</th>\n",
       "      <td>2024-11-05</td>\n",
       "      <td>62.740002</td>\n",
       "      <td>62.740002</td>\n",
       "      <td>62.959999</td>\n",
       "      <td>62.020000</td>\n",
       "      <td>62.790001</td>\n",
       "      <td>2153744.0</td>\n",
       "      <td>-0.002070</td>\n",
       "    </tr>\n",
       "    <tr>\n",
       "      <th>3042</th>\n",
       "      <td>2024-11-06</td>\n",
       "      <td>61.070000</td>\n",
       "      <td>61.070000</td>\n",
       "      <td>63.980000</td>\n",
       "      <td>60.470001</td>\n",
       "      <td>63.560001</td>\n",
       "      <td>5045283.0</td>\n",
       "      <td>-0.026978</td>\n",
       "    </tr>\n",
       "  </tbody>\n",
       "</table>\n",
       "<p>3043 rows × 8 columns</p>\n",
       "</div>"
      ],
      "text/plain": [
       "           Date  Adj Close      Close       High        Low       Open  \\\n",
       "0    2013-01-02  22.753107  44.459999  44.564999  43.419998  43.930000   \n",
       "1    2013-01-03  22.753107  44.459999  44.544998  44.014999  44.240002   \n",
       "2    2013-01-04  22.714725  44.384998  44.720001  43.955002  44.360001   \n",
       "3    2013-01-07  23.136940  45.209999  46.064999  45.119999  45.250000   \n",
       "4    2013-01-08  23.385141  45.695000  46.555000  45.064999  45.154999   \n",
       "...         ...        ...        ...        ...        ...        ...   \n",
       "3038 2024-10-31  62.750000  62.750000  62.860001  60.599998  61.790001   \n",
       "3039 2024-11-01  63.040001  63.040001  63.419998  62.349998  62.570000   \n",
       "3040 2024-11-04  62.869999  62.869999  63.439999  62.669998  62.990002   \n",
       "3041 2024-11-05  62.740002  62.740002  62.959999  62.020000  62.790001   \n",
       "3042 2024-11-06  61.070000  61.070000  63.980000  60.470001  63.560001   \n",
       "\n",
       "         Volume  Log Return  \n",
       "0     3604846.0    0.000000  \n",
       "1     1719620.0    0.000000  \n",
       "2     1969483.0   -0.001688  \n",
       "3     4186011.0    0.018417  \n",
       "4     4068024.0    0.010670  \n",
       "...         ...         ...  \n",
       "3038  7008244.0   -0.042892  \n",
       "3039  3008056.0    0.004611  \n",
       "3040  1950835.0   -0.002700  \n",
       "3041  2153744.0   -0.002070  \n",
       "3042  5045283.0   -0.026978  \n",
       "\n",
       "[3043 rows x 8 columns]"
      ]
     },
     "execution_count": 2,
     "metadata": {},
     "output_type": "execute_result"
    }
   ],
   "source": [
    "# Liste des symboles des principales banques européennes\n",
    "european_banks = [\n",
    "    'BNP.PA',   # BNP Paribas\n",
    "    'GLE.PA',   # Société Générale \n",
    "    'ACA.PA',   # Crédit Agricole \n",
    "    'HSBA.L',   # HSBC (UK)\n",
    "    'BARC.L',   # Barclays (UK)\n",
    "    'DBK.DE',   # Deutsche Bank (Germany)\n",
    "    'UBSG.SW',  # UBS Group (Switzerland)\n",
    "    'INGA.AS',  # ING Group (Netherlands)\n",
    "    'ISP.MI',   # Intesa Sanpaolo (Italy)\n",
    "    'SAN.MC',   # Banco Santander (Spain)\n",
    "    'BBVA.MC'   # BBVA (Spain)\n",
    "]\n",
    "\n",
    "# à partir de 2013\n",
    "start_date = '2013-01-01'\n",
    "end_date = '2024-11-07'\n",
    "\n",
    "data = prepare_stock_data(european_banks, start_date, end_date)\n",
    "\n",
    "# Filtrer les colonnes associées à BNP.PA\n",
    "bnp_data = data['BNP.PA']  # Cela sélectionne toutes les sous-colonnes sous 'BNP.PA'\n",
    "\n",
    "# (Optionnel) Réinitialiser l'index pour une présentation plus lisible\n",
    "bnp_data = bnp_data.reset_index()\n",
    "\n",
    "bnp_data.columns = ['Date', 'Adj Close', 'Close', 'High', 'Low', 'Open', 'Volume']\n",
    "\n",
    "bnp_data['Log Return'] = np.log(bnp_data['Adj Close']) - np.log(bnp_data['Adj Close'].shift(1))\n",
    "bnp_data = bnp_data.interpolate(method='linear').ffill().bfill()\n",
    "bnp_data"
   ]
  },
  {
   "cell_type": "code",
   "execution_count": 3,
   "metadata": {},
   "outputs": [],
   "source": [
    "from sklearn.preprocessing import MinMaxScaler\n",
    "import pandas as pd\n",
    "\n",
    "scaler = MinMaxScaler(feature_range=(0, 1))\n",
    "bnp_data['Adj Close'] = scaler.fit_transform(bnp_data[['Adj Close']])"
   ]
  },
  {
   "cell_type": "code",
   "execution_count": null,
   "metadata": {},
   "outputs": [],
   "source": [
    "gap = 50  # Gap between each subset\n",
    "\n",
    "# Calculate dynamic sizes\n",
    "total_samples = len(bnp_data)\n",
    "train_size = int(0.60 * total_samples)\n",
    "test_size = int(0.18 * total_samples)\n",
    "validation_size = int(0.18 * total_samples)\n",
    "\n",
    "train,test,validation=data_splitting(bnp_data,train_size,test_size,validation_size,gap)"
   ]
  },
  {
   "cell_type": "code",
   "execution_count": 5,
   "metadata": {},
   "outputs": [],
   "source": [
    "#data = pd.read_csv('../cleaned_data.csv', parse_dates=True)\n",
    "#bnp_columns = data.filter(like='BNP.PA').columns\n",
    "#data_bnp=data[bnp_columns]\n",
    "#data_bnp.columns = data_bnp.iloc[0]\n",
    "#data_bnp = data_bnp[2:].reset_index(drop=True)  # Enlève les lignes 0 et 1 et réindexe"
   ]
  },
  {
   "cell_type": "markdown",
   "metadata": {},
   "source": [
    "<h2>LSTM Model</h2>"
   ]
  },
  {
   "cell_type": "code",
   "execution_count": 6,
   "metadata": {},
   "outputs": [
    {
     "ename": "NameError",
     "evalue": "name 'data_bnp_normalized' is not defined",
     "output_type": "error",
     "traceback": [
      "\u001b[1;31m---------------------------------------------------------------------------\u001b[0m",
      "\u001b[1;31mNameError\u001b[0m                                 Traceback (most recent call last)",
      "Cell \u001b[1;32mIn[6], line 2\u001b[0m\n\u001b[0;32m      1\u001b[0m timesteps \u001b[38;5;241m=\u001b[39m \u001b[38;5;241m10\u001b[39m\n\u001b[1;32m----> 2\u001b[0m X, y \u001b[38;5;241m=\u001b[39m create_sequences(\u001b[43mdata_bnp_normalized\u001b[49m,target_normalized, timesteps)\n\u001b[0;32m      4\u001b[0m \u001b[38;5;66;03m# Split into training and testing sets\u001b[39;00m\n\u001b[0;32m      5\u001b[0m split \u001b[38;5;241m=\u001b[39m \u001b[38;5;28mint\u001b[39m(\u001b[38;5;241m0.6\u001b[39m \u001b[38;5;241m*\u001b[39m \u001b[38;5;28mlen\u001b[39m(X))\n",
      "\u001b[1;31mNameError\u001b[0m: name 'data_bnp_normalized' is not defined"
     ]
    }
   ],
   "source": [
    "timesteps = 10\n",
    "X, y = create_sequences(data_bnp_normalized,target_normalized, timesteps)\n",
    "\n",
    "# Split into training and testing sets\n",
    "split = int(0.6 * len(X))\n",
    "X_train, X_test = X[:split], X[split:]\n",
    "y_train, y_test = y[:split], y[split:]\n",
    "\n",
    "split = int(0.5 * len(X_test))\n",
    "X_test, X_validation = X_test[:split], X_test[split:]\n",
    "y_test, y_validation = y_test[:split], y_test[split:]\n",
    "\n",
    "# Build and train the LSTM model\n",
    "model = build_lstm_model((X_train.shape[1], X_train.shape[2]))  # Input shape (timesteps, features)\n",
    "model.summary()\n",
    "\n",
    "# Train the model\n",
    "history = model.fit(X_train, y_train, epochs=20, batch_size=32, validation_data=(X_test, y_test))\n",
    "\n",
    "# Predict and evaluate\n",
    "y_pred = model.predict(X_test)\n",
    "y_pred_rescaled = scaler.inverse_transform(y_pred)\n",
    "y_test_rescaled = scaler.inverse_transform(y_test)\n",
    "\n",
    "# Calculate metrics\n",
    "rmse = calculate_rmse(y_test_rescaled, y_pred_rescaled)\n",
    "nse = calculate_nse(y_test_rescaled, y_pred_rescaled)\n",
    "\n",
    "print(f\"RMSE: {rmse:.4f}\")\n",
    "print(f\"NSE: {nse:.4f}\")\n"
   ]
  },
  {
   "cell_type": "code",
   "execution_count": null,
   "metadata": {},
   "outputs": [
    {
     "data": {
      "image/png": "[encoded data removed]",
      "text/plain": [
       "<Figure size 1400x500 with 1 Axes>"
      ]
     },
     "metadata": {},
     "output_type": "display_data"
    }
   ],
   "source": [
    "plot_learning_curves(history)"
   ]
  },
  {
   "cell_type": "markdown",
   "metadata": {},
   "source": [
    "<h2>RNN Model</h2>"
   ]
  },
  {
   "cell_type": "code",
   "execution_count": null,
   "metadata": {},
   "outputs": [],
   "source": []
  }
 ],
 "metadata": {
  "kernelspec": {
   "display_name": "Python 3",
   "language": "python",
   "name": "python3"
  },
  "language_info": {
   "codemirror_mode": {
    "name": "ipython",
    "version": 3
   },
   "file_extension": ".py",
   "mimetype": "text/x-python",
   "name": "python",
   "nbconvert_exporter": "python",
   "pygments_lexer": "ipython3",
   "version": "3.12.6"
  }
 },
 "nbformat": 4,
 "nbformat_minor": 2
}
